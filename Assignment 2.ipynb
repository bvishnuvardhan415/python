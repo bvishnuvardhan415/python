{
 "cells": [
  {
   "cell_type": "code",
   "execution_count": 1,
   "id": "7dbf5fc4",
   "metadata": {},
   "outputs": [
    {
     "name": "stdout",
     "output_type": "stream",
     "text": [
      "Enter two numbers to perform multiplication and division10\n",
      "22\n",
      "Product of 10 and 22 is 220\n",
      "Quotient of 10 and 22 is 0.45454545454545453\n"
     ]
    }
   ],
   "source": [
    "# 1) Write a program to accept two numbers from the user and calculate multiplication, division\n",
    "\n",
    "x=int(input(\"Enter two numbers to perform multiplication and division\"))\n",
    "y=int(input())\n",
    "print(\"Product of \"+str(x)+\" and \"+str(y)+\" is \"+str(x*y))\n",
    "print(\"Quotient of \"+str(x)+\" and \"+str(y)+\" is \"+str(x/y))"
   ]
  },
  {
   "cell_type": "code",
   "execution_count": 2,
   "id": "32a0f904",
   "metadata": {},
   "outputs": [
    {
     "name": "stdout",
     "output_type": "stream",
     "text": [
      "Enter a string hello\n",
      "hlo\n"
     ]
    }
   ],
   "source": [
    "#2)Write a python program to print the characters from a string that are present at an even index\n",
    "\n",
    "x=input(\"Enter a string \")\n",
    "a=\"\"\n",
    "for y in range(0,len(x)):\n",
    "    if y%2==0:\n",
    "        a+=x[y]\n",
    "    else:\n",
    "        continue\n",
    "print(a)"
   ]
  },
  {
   "cell_type": "code",
   "execution_count": 3,
   "id": "1311107a",
   "metadata": {},
   "outputs": [
    {
     "name": "stdout",
     "output_type": "stream",
     "text": [
      "Enter a string python\n",
      "yhn\n"
     ]
    }
   ],
   "source": [
    "#3)Write a python program to print the characters from a string that are present at an odd index\n",
    "\n",
    "x=input(\"Enter a string \")\n",
    "a=\"\"\n",
    "for y in range(0,len(x)):\n",
    "    if y%2==0:\n",
    "        continue\n",
    "    else:\n",
    "        a+=x[y]\n",
    "print(a)"
   ]
  },
  {
   "cell_type": "code",
   "execution_count": 4,
   "id": "7d37d51b",
   "metadata": {},
   "outputs": [
    {
     "name": "stdout",
     "output_type": "stream",
     "text": [
      "Enter number 1: 2\n",
      "Enter number 2: 4\n",
      "Both are even numbers\n",
      "Sum is 6\n"
     ]
    }
   ],
   "source": [
    "#4)Write a python program which will print the sum of the two numbers if the two numbers are even or it will print the difference of two numbers\n",
    "\n",
    "n1=int(input(\"Enter number 1: \"))\n",
    "n2=int(input(\"Enter number 2: \"))\n",
    "if n1%2==0 and n2%2==0:\n",
    "    print(\"Both are even numbers\\nSum is \"+str(n1+n2))\n",
    "else:\n",
    "    print(\"Both the numbers are not even\\nProduct is \"+str(n1*n2))"
   ]
  },
  {
   "cell_type": "code",
   "execution_count": 5,
   "id": "7951134f",
   "metadata": {},
   "outputs": [
    {
     "name": "stdout",
     "output_type": "stream",
     "text": [
      "Enter a string python\n",
      "PyThOn\n"
     ]
    }
   ],
   "source": [
    "#5)Write a python program to convert all even indexed alphabets to upper and odd indexed char\n",
    "\n",
    "x=input(\"Enter a string \")\n",
    "a=\"\"\n",
    "for y in range(0,len(x)):\n",
    "    if y%2==0:\n",
    "        a+=x[y].upper()\n",
    "    else:\n",
    "        a+=x[y].lower()\n",
    "print(a)"
   ]
  },
  {
   "cell_type": "code",
   "execution_count": 6,
   "id": "c4ec1749",
   "metadata": {},
   "outputs": [
    {
     "name": "stdout",
     "output_type": "stream",
     "text": [
      "Please enter a string: 5\n",
      "True\n"
     ]
    }
   ],
   "source": [
    "#6)Write a python program which will print True if the input number is divisible by 5 or else False\n",
    "\n",
    "x=int(input(\"Please enter a string: \"))\n",
    "if x%5==0:\n",
    "    print(\"True\")\n",
    "else:\n",
    "    print(\"False\")"
   ]
  },
  {
   "cell_type": "code",
   "execution_count": 7,
   "id": "44071ae3",
   "metadata": {},
   "outputs": [
    {
     "name": "stdout",
     "output_type": "stream",
     "text": [
      "Enetr a number 22\n",
      "Enter a number 24\n",
      "Sum is: 46\n"
     ]
    }
   ],
   "source": [
    "#7) Given two integer numbers return their product only if the product is greater than 1000, else return their sum.\n",
    "\n",
    "x=int(input(\"Enetr a number \"))\n",
    "y=int(input(\"Enter a number \"))\n",
    "if (x*y)>1000:\n",
    "    print(\"Product is: \"+str(x*y))\n",
    "else:\n",
    "    print(\"Sum is: \"+str(x+y))"
   ]
  },
  {
   "cell_type": "code",
   "execution_count": 8,
   "id": "fc0c703b",
   "metadata": {},
   "outputs": [
    {
     "name": "stdout",
     "output_type": "stream",
     "text": [
      "Enter a string: hello\n",
      "Enter a string: hi\n",
      "hhlioi\n"
     ]
    }
   ],
   "source": [
    "#8)Given two strings x, y write a program to return a newstring made of x and y’s first, middle, and last characters\n",
    "#Example:Input\n",
    "#X= ”pytho” Y= ”javas”\n",
    "#Output ”pjtvos”\n",
    "\n",
    "x=input(\"Enter a string: \")\n",
    "y=input(\"Enter a string: \")\n",
    "a=len(x)//2\n",
    "b=len(y)//2\n",
    "print(x[0]+y[0]+x[a]+y[b]+x[-1]+y[-1])"
   ]
  },
  {
   "cell_type": "code",
   "execution_count": 10,
   "id": "242493e9",
   "metadata": {},
   "outputs": [
    {
     "name": "stdout",
     "output_type": "stream",
     "text": [
      "Please enter three names chinnu lucky nikky\n",
      "Name1: - chinnu\n",
      "Name2: - lucky\n",
      "Name3: - nikky\n"
     ]
    }
   ],
   "source": [
    "#9)Write a python program to take three names as input from a user in the single input () function call\n",
    "#Example:Input:\n",
    "#Enter three names: - “person1 person2 person3”\n",
    "#Output:\n",
    "#Name1: - “person1” \n",
    "#Name2: - “person2” \n",
    "#Name3: - “person3”\n",
    "\n",
    "x=input(\"Please enter three names \")\n",
    "y=x.split()\n",
    "for z in range(0,3):\n",
    "    print(\"Name\"+str(z+1)+\": - \"+y[z])"
   ]
  },
  {
   "cell_type": "code",
   "execution_count": 11,
   "id": "23fa9bc7",
   "metadata": {},
   "outputs": [
    {
     "name": "stdout",
     "output_type": "stream",
     "text": [
      "Enter a string python\n",
      "python\n"
     ]
    }
   ],
   "source": [
    "#10)Write a Python program to get a string from a given string where all occurrences of its first char have been changed to '@', except the first char itself. \n",
    "#Example: Input:'malayalam’\n",
    "#Output: 'malayala@'\n",
    "#Input: ' abcabab'\n",
    "#Output:‘abc@b@b’\n",
    "\n",
    "x=input(\"Enter a string \")\n",
    "a=x[0]\n",
    "for y in range(1,len(x)):\n",
    "    if x[y]==x[0]:\n",
    "        a+=\"@\"\n",
    "    else:\n",
    "        a+=x[y]\n",
    "print(a)"
   ]
  },
  {
   "cell_type": "code",
   "execution_count": 12,
   "id": "bbababc5",
   "metadata": {},
   "outputs": [
    {
     "name": "stdout",
     "output_type": "stream",
     "text": [
      "Enter a string: hello\n",
      "helloing\n"
     ]
    }
   ],
   "source": [
    "#11)Write a Python program to add 'ing' at the end of a given string (string length should be equal to or more than 3). If the given string already ends with 'ing' then add 'ly' instead. If the string length of the given string is less than 3, leave it unchanged\n",
    "#Example:Input:\n",
    "#'sing’\n",
    "#Output:'singing'\n",
    "#Input:' playing'\n",
    "#Output:‘playly’\n",
    "#Input:' on'\n",
    "#Output:‘on’\n",
    "\n",
    "x=input(\"Enter a string: \")\n",
    "a=\"\"\n",
    "\n",
    "if len(x)>=3 and x.endswith(\"ing\"):\n",
    "    y=x.strip(\"ing\")\n",
    "    a=y+\"ly\"\n",
    "elif len(x)<3:\n",
    "    a=x\n",
    "else:\n",
    "    a=x+\"ing\"\n",
    "print(a)  "
   ]
  },
  {
   "cell_type": "code",
   "execution_count": 13,
   "id": "6ffef868",
   "metadata": {},
   "outputs": [
    {
     "name": "stdout",
     "output_type": "stream",
     "text": [
      "Enter a number: 20\n",
      "Enetr a number: 30\n",
      "False\n"
     ]
    }
   ],
   "source": [
    "#12)Write a python program that accepts two inputs num1 and num2 print True if one of them is 10 or if their sum is 10 otherwise print False\n",
    "\n",
    "num1=int(input(\"Enter a number: \"))\n",
    "num2=int(input(\"Enetr a number: \"))\n",
    "if num1==10 or num2==10 or num1+num2==10:\n",
    "    print(True)\n",
    "else:\n",
    "    print(False)\n",
    "    "
   ]
  },
  {
   "cell_type": "code",
   "execution_count": 14,
   "id": "ea2643fb",
   "metadata": {},
   "outputs": [
    {
     "name": "stdout",
     "output_type": "stream",
     "text": [
      "Enter a number: 2\n",
      "Enetr a number: 6\n",
      "Enter a number: 4\n",
      "True\n"
     ]
    }
   ],
   "source": [
    "#13) Write a python program that accepts three inputs x, y and z print True if x*y>z otherwise False\n",
    "\n",
    "x=int(input(\"Enter a number: \"))\n",
    "y=int(input(\"Enetr a number: \"))\n",
    "z=int(input(\"Enter a number: \"))\n",
    "if x*y>z:\n",
    "    print(True)\n",
    "else:\n",
    "    print(False)"
   ]
  },
  {
   "cell_type": "code",
   "execution_count": 15,
   "id": "c0a4ab90",
   "metadata": {},
   "outputs": [
    {
     "name": "stdout",
     "output_type": "stream",
     "text": [
      "Enter a string: python\n",
      "Enetr a string: python\n",
      "True\n"
     ]
    }
   ],
   "source": [
    "#14) Write a python program that accepts two strings inputs return True depending on whether the total number of characters in the first string is equal to the total number of characters in the second string\n",
    "\n",
    "x=input(\"Enter a string: \")\n",
    "y=input(\"Enetr a string: \")\n",
    "if len(x)==len(y):\n",
    "    print(True)\n",
    "else:\n",
    "    print(False)"
   ]
  },
  {
   "cell_type": "code",
   "execution_count": 16,
   "id": "2aabe35c",
   "metadata": {},
   "outputs": [
    {
     "name": "stdout",
     "output_type": "stream",
     "text": [
      "Enter a string: hello python would\n",
      "helhelhel\n"
     ]
    }
   ],
   "source": [
    "#15) Write a python program that takes a string input, we'll say that the front is the first three characters of the string. If the string length is less than three characters, the front is whatever is there. Return a new string, which is three copies of the front\n",
    "\n",
    "x=input(\"Enter a string: \")\n",
    "if len(x)<3:\n",
    "    print(x)\n",
    "else:\n",
    "    print(x[0:3]*3)"
   ]
  },
  {
   "cell_type": "code",
   "execution_count": 17,
   "id": "ca0cbbd2",
   "metadata": {},
   "outputs": [
    {
     "name": "stdout",
     "output_type": "stream",
     "text": [
      "Enter a string: hi\n",
      "hi is not plural.\n"
     ]
    }
   ],
   "source": [
    "#16) Write a python program that takes in a word and determines whether or not it is plural. A plural word is one that ends in \"s\".\n",
    "\n",
    "x=input(\"Enter a string: \")\n",
    "if x.endswith(\"s\") or x.endswith(\"S\"):\n",
    "    print(x+\" is plural.\")\n",
    "else:\n",
    "    print(x+\" is not plural.\")"
   ]
  },
  {
   "cell_type": "code",
   "execution_count": 18,
   "id": "de1a4e98",
   "metadata": {},
   "outputs": [
    {
     "name": "stdout",
     "output_type": "stream",
     "text": [
      "Give true if it is break time else false:True\n",
      "Enetr the age of the costumer: 10\n",
      "Do not serve the drinks\n"
     ]
    }
   ],
   "source": [
    "#17) A bartender is writing a simple program to determine whether he should serve drinks to someone. He only serves drinks to people 18 and older and when he's not on break (True means break and False means not a break time). Given the person's age, and whether break time is in session, create a python program which prints whether he should serve drinks or not.\n",
    "\n",
    "x=input(\"Give true if it is break time else false:\")\n",
    "age=int(input(\"Enetr the age of the costumer: \"))\n",
    "if x==\"True\" or x==\"true\":\n",
    "    if age>=18:\n",
    "        print(\"Serve the drinks\")\n",
    "    else:\n",
    "        print(\"Do not serve the drinks\")"
   ]
  },
  {
   "cell_type": "code",
   "execution_count": 1,
   "id": "debee58b",
   "metadata": {},
   "outputs": [
    {
     "name": "stdout",
     "output_type": "stream",
     "text": [
      "Enter the name: venkatlaxmi\n",
      "Rleation is mother\n"
     ]
    }
   ],
   "source": [
    "#18) Manoj Kumar has family and friends. Help him remind them who is who.\n",
    "#Given a string with a name, return the relation of that person to Manoj Kumar.\n",
    "#Person----Relation\n",
    "#Shiva   -  father\n",
    "#Letha   -  mother\n",
    "#Tarun   -  brother\n",
    "#Kavitha -  sister\n",
    "\n",
    "x=input(\"Enter the name: \")\n",
    "person=[\"venkateshwar rao\",\"venkatlaxmi\",\"ravi\",\"anitha\"]\n",
    "rel=[\"father\",\"mother\",\"brother\",\"sister\"]\n",
    "if x==person[0]:\n",
    "    print(\"Rleation is \"+rel[0])\n",
    "elif x==person[1]:\n",
    "    print(\"Rleation is \"+rel[1])\n",
    "elif x==person[2]:\n",
    "    print(\"Rleation is \"+rel[2])\n",
    "elif x==person[3]:\n",
    "    print(\"Rleation is \"+rel[3])\n",
    "else:\n",
    "    print(\"Relation not found\")"
   ]
  },
  {
   "cell_type": "code",
   "execution_count": 1,
   "id": "8b9869e7",
   "metadata": {},
   "outputs": [
    {
     "name": "stdout",
     "output_type": "stream",
     "text": [
      "Enter a string: xfgxhgcjh\n",
      "Vowels: \n",
      "Consonants: xfgxhgcjh\n"
     ]
    }
   ],
   "source": [
    "#19) Write a python program that takes a string, breaks it up and returns it with vowels first, consonants second. For any character that's not a vowel (like special characters or spaces), treat them like consonants\n",
    "\n",
    "x=input(\"Enter a string: \")\n",
    "vow=\"\";con=\"\"\n",
    "for y in range(0,len(x)):\n",
    "    if x[y]==\"a\" or x[y]==\"e\" or x[y]==\"i\" or x[y]==\"o\" or x[y]==\"u\" or x[y]==\"A\" or x[y]==\"E\" or x[y]==\"I\" or x[y]==\"O\" or x[y]==\"U\":\n",
    "        vow+=x[y]\n",
    "    else:\n",
    "        con+=x[y]\n",
    "print(\"Vowels: \"+vow+\"\\nConsonants: \"+con)"
   ]
  },
  {
   "cell_type": "code",
   "execution_count": null,
   "id": "0ab8a2e3",
   "metadata": {},
   "outputs": [],
   "source": []
  }
 ],
 "metadata": {
  "kernelspec": {
   "display_name": "Python 3 (ipykernel)",
   "language": "python",
   "name": "python3"
  },
  "language_info": {
   "codemirror_mode": {
    "name": "ipython",
    "version": 3
   },
   "file_extension": ".py",
   "mimetype": "text/x-python",
   "name": "python",
   "nbconvert_exporter": "python",
   "pygments_lexer": "ipython3",
   "version": "3.10.9"
  }
 },
 "nbformat": 4,
 "nbformat_minor": 5
}
