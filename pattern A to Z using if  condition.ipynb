{
 "cells": [
  {
   "cell_type": "code",
   "execution_count": 57,
   "id": "f41b288a",
   "metadata": {},
   "outputs": [
    {
     "name": "stdout",
     "output_type": "stream",
     "text": [
      "* * *\n",
      "*   *\n",
      "* * *\n",
      "*   *\n",
      "*   *\n"
     ]
    }
   ],
   "source": [
    "x1=1\n",
    "x2=2\n",
    "x3=3\n",
    "x4=4\n",
    "x5=5\n",
    "if x1==1:\n",
    "    print(\"* * *\")\n",
    "if x2==2:\n",
    "    print(\"*   *\")\n",
    "if x3==3:\n",
    "    print(\"* * *\")\n",
    "if x4==4:\n",
    "    print(\"*   *\")\n",
    "if x5==5:\n",
    "    print(\"*   *\")\n"
   ]
  },
  {
   "cell_type": "code",
   "execution_count": 2,
   "id": "b58e76a5",
   "metadata": {},
   "outputs": [
    {
     "name": "stdout",
     "output_type": "stream",
     "text": [
      "* * \n",
      "*   *\n",
      "* * \n",
      "*   *\n",
      "* * \n"
     ]
    }
   ],
   "source": [
    "x1=1\n",
    "x2=2\n",
    "x3=3\n",
    "x4=4\n",
    "x5=5\n",
    "if x1==1:\n",
    "    print(\"* * \")\n",
    "if x2==2:\n",
    "    print(\"*   *\")\n",
    "if x3==3:\n",
    "    print(\"* * \")\n",
    "if x4==4:\n",
    "    print(\"*   *\")\n",
    "if x5==5:\n",
    "    print(\"* * \")\n"
   ]
  },
  {
   "cell_type": "code",
   "execution_count": 60,
   "id": "d62e9898",
   "metadata": {},
   "outputs": [
    {
     "name": "stdout",
     "output_type": "stream",
     "text": [
      "* * *\n",
      "*   \n",
      "*  \n",
      "*   \n",
      "* * *\n"
     ]
    }
   ],
   "source": [
    "x1=1\n",
    "x2=2\n",
    "x3=3\n",
    "x4=4\n",
    "x5=5\n",
    "if x1==1:\n",
    "    print(\"* * *\")\n",
    "if x2==2:\n",
    "    print(\"*   \")\n",
    "if x3==3:\n",
    "    print(\"*  \")\n",
    "if x4==4:\n",
    "    print(\"*   \")\n",
    "if x5==5:\n",
    "    print(\"* * *\")\n"
   ]
  },
  {
   "cell_type": "code",
   "execution_count": 62,
   "id": "7595072a",
   "metadata": {},
   "outputs": [
    {
     "name": "stdout",
     "output_type": "stream",
     "text": [
      "* * *\n",
      "*     *\n",
      "*      *\n",
      "*     *\n",
      "* * *\n"
     ]
    }
   ],
   "source": [
    "x1=1\n",
    "x2=2\n",
    "x3=3\n",
    "x4=4\n",
    "x5=5\n",
    "if x1==1:\n",
    "    print(\"* * *\")\n",
    "if x2==2:\n",
    "    print(\"*     *\")\n",
    "if x3==3:\n",
    "    print(\"*      *\")\n",
    "if x4==4:\n",
    "    print(\"*     *\")\n",
    "if x5==5:\n",
    "    print(\"* * *\")\n"
   ]
  },
  {
   "cell_type": "code",
   "execution_count": 63,
   "id": "fdbd99f7",
   "metadata": {},
   "outputs": [
    {
     "name": "stdout",
     "output_type": "stream",
     "text": [
      "* * *\n",
      "*   \n",
      "* * *\n",
      "*   \n",
      "* * *\n"
     ]
    }
   ],
   "source": [
    "x1=1\n",
    "x2=2\n",
    "x3=3\n",
    "x4=4\n",
    "x5=5\n",
    "if x1==1:\n",
    "    print(\"* * *\")\n",
    "if x2==2:\n",
    "    print(\"*   \")\n",
    "if x3==3:\n",
    "    print(\"* * *\")\n",
    "if x4==4:\n",
    "    print(\"*   \")\n",
    "if x5==5:\n",
    "    print(\"* * *\")\n"
   ]
  },
  {
   "cell_type": "code",
   "execution_count": 64,
   "id": "7d6023d6",
   "metadata": {},
   "outputs": [
    {
     "name": "stdout",
     "output_type": "stream",
     "text": [
      "* * *\n",
      "*   \n",
      "* * *\n",
      "*   \n",
      "* \n"
     ]
    }
   ],
   "source": [
    "x1=1\n",
    "x2=2\n",
    "x3=3\n",
    "x4=4\n",
    "x5=5\n",
    "if x1==1:\n",
    "    print(\"* * *\")\n",
    "if x2==2:\n",
    "    print(\"*   \")\n",
    "if x3==3:\n",
    "    print(\"* * *\")\n",
    "if x4==4:\n",
    "    print(\"*   \")\n",
    "if x5==5:\n",
    "    print(\"* \")\n"
   ]
  },
  {
   "cell_type": "code",
   "execution_count": 5,
   "id": "2b616b51",
   "metadata": {},
   "outputs": [
    {
     "name": "stdout",
     "output_type": "stream",
     "text": [
      "* * *\n",
      "*   \n",
      "*   *  * *\n",
      "*   *    *\n",
      "* * *    *\n"
     ]
    }
   ],
   "source": [
    "x1=1\n",
    "x2=2\n",
    "x3=3\n",
    "x4=4\n",
    "x5=5\n",
    "if x1==1:\n",
    "    print(\"* * *\")\n",
    "if x2==2:\n",
    "    print(\"*   \")\n",
    "if x3==3:\n",
    "    print(\"*   *  * *\")\n",
    "if x4==4:\n",
    "    print(\"*   *    *\")\n",
    "if x5==5:\n",
    "    print(\"* * *    *\")\n"
   ]
  },
  {
   "cell_type": "code",
   "execution_count": 72,
   "id": "1ac3ed8e",
   "metadata": {},
   "outputs": [
    {
     "name": "stdout",
     "output_type": "stream",
     "text": [
      "*   *\n",
      "*   *\n",
      "* * *\n",
      "*   *\n",
      "*   *\n"
     ]
    }
   ],
   "source": [
    "x1=1\n",
    "x2=2\n",
    "x3=3\n",
    "x4=4\n",
    "x5=5\n",
    "if x1==1:\n",
    "    print(\"*   *\")\n",
    "if x2==2:\n",
    "    print(\"*   *\")\n",
    "if x3==3:\n",
    "    print(\"* * *\")\n",
    "if x4==4:\n",
    "    print(\"*   *\")\n",
    "if x5==5:\n",
    "    print(\"*   *\")\n"
   ]
  },
  {
   "cell_type": "code",
   "execution_count": 73,
   "id": "f68a08f0",
   "metadata": {},
   "outputs": [
    {
     "name": "stdout",
     "output_type": "stream",
     "text": [
      "* * *\n",
      "  *  \n",
      "  *  \n",
      "  *  \n",
      "* * *\n"
     ]
    }
   ],
   "source": [
    "x1=1\n",
    "x2=2\n",
    "x3=3\n",
    "x4=4\n",
    "x5=5\n",
    "if x1==1:\n",
    "    print(\"* * *\")\n",
    "if x2==2:\n",
    "    print(\"  *  \")\n",
    "if x3==3:\n",
    "    print(\"  *  \")\n",
    "if x4==4:\n",
    "    print(\"  *  \")\n",
    "if x5==5:\n",
    "    print(\"* * *\")\n"
   ]
  },
  {
   "cell_type": "code",
   "execution_count": 77,
   "id": "2e38a184",
   "metadata": {},
   "outputs": [
    {
     "name": "stdout",
     "output_type": "stream",
     "text": [
      "* * * *\n",
      "    *  \n",
      "    *  \n",
      "*   *  \n",
      "* * *  \n"
     ]
    }
   ],
   "source": [
    "x1=1\n",
    "x2=2\n",
    "x3=3\n",
    "x4=4\n",
    "x5=5\n",
    "if x1==1:\n",
    "    print(\"* * * *\")\n",
    "if x2==2:\n",
    "    print(\"    *  \")\n",
    "if x3==3:\n",
    "    print(\"    *  \")\n",
    "if x4==4:\n",
    "    print(\"*   *  \")\n",
    "if x5==5:\n",
    "    print(\"* * *  \")"
   ]
  },
  {
   "cell_type": "code",
   "execution_count": 80,
   "id": "0f872ab3",
   "metadata": {},
   "outputs": [
    {
     "name": "stdout",
     "output_type": "stream",
     "text": [
      "*     *\n",
      "*   *\n",
      "* *  \n",
      "*   *  \n",
      "*     *\n"
     ]
    }
   ],
   "source": [
    "x1=1\n",
    "x2=2\n",
    "x3=3\n",
    "x4=4\n",
    "x5=5\n",
    "if x1==1:\n",
    "    print(\"*     *\")\n",
    "if x2==2:\n",
    "    print(\"*   *\")\n",
    "if x3==3:\n",
    "    print(\"* *  \")\n",
    "if x4==4:\n",
    "    print(\"*   *  \")\n",
    "if x5==5:\n",
    "    print(\"*     *\")"
   ]
  },
  {
   "cell_type": "code",
   "execution_count": 81,
   "id": "5b2ca55d",
   "metadata": {},
   "outputs": [
    {
     "name": "stdout",
     "output_type": "stream",
     "text": [
      "* \n",
      "*  \n",
      "*  \n",
      "*  \n",
      "* * *\n"
     ]
    }
   ],
   "source": [
    "x1=1\n",
    "x2=2\n",
    "x3=3\n",
    "x4=4\n",
    "x5=5\n",
    "if x1==1:\n",
    "    print(\"* \")\n",
    "if x2==2:\n",
    "    print(\"*  \")\n",
    "if x3==3:\n",
    "    print(\"*  \")\n",
    "if x4==4:\n",
    "    print(\"*  \")\n",
    "if x5==5:\n",
    "    print(\"* * *\")"
   ]
  },
  {
   "cell_type": "code",
   "execution_count": 10,
   "id": "d1357a24",
   "metadata": {},
   "outputs": [
    {
     "name": "stdout",
     "output_type": "stream",
     "text": [
      "*      *\n",
      "* *  * *\n",
      "*  *   *\n",
      "*      *\n",
      "*      *\n"
     ]
    }
   ],
   "source": [
    "x1=1\n",
    "x2=2\n",
    "x3=3\n",
    "x4=4\n",
    "x5=5\n",
    "if x1==1:\n",
    "    print (\"*      *\")\n",
    "if x2==2:\n",
    "    print (\"* *  * *\")\n",
    "if x3==3:\n",
    "    print (\"*  *   *\")\n",
    "if x4==4:\n",
    "    print (\"*      *\")\n",
    "if x5==5:\n",
    "    print (\"*      *\")"
   ]
  },
  {
   "cell_type": "code",
   "execution_count": 11,
   "id": "016e1905",
   "metadata": {},
   "outputs": [
    {
     "name": "stdout",
     "output_type": "stream",
     "text": [
      "*     *\n",
      "* *   *\n",
      "*  *  *\n",
      "*   * * \n",
      "*     * \n"
     ]
    }
   ],
   "source": [
    "x1=1\n",
    "x2=2\n",
    "x3=3\n",
    "x4=4\n",
    "x5=5\n",
    "if x1==1:\n",
    "    print (\"*     *\")\n",
    "if x2==2:\n",
    "    print (\"* *   *\")\n",
    "if x3==3:\n",
    "    print (\"*  *  *\")\n",
    "if x4==4:\n",
    "    print (\"*   * * \")\n",
    "if x5==5:\n",
    "    print (\"*     * \")"
   ]
  },
  {
   "cell_type": "code",
   "execution_count": 123,
   "id": "dea8701b",
   "metadata": {},
   "outputs": [
    {
     "name": "stdout",
     "output_type": "stream",
     "text": [
      "* * *\n",
      "*   *\n",
      "*   *\n",
      "*   *\n",
      "* * * \n"
     ]
    }
   ],
   "source": [
    "x1=1\n",
    "x2=2\n",
    "x3=3\n",
    "x4=4\n",
    "x5=5\n",
    "if x1==1:\n",
    "    print(\"* * *\")\n",
    "if x2==2:\n",
    "    print(\"*   *\")\n",
    "if x3==3:\n",
    "    print(\"*   *\")\n",
    "if x4==4:\n",
    "    print(\"*   *\")\n",
    "if x5==5:\n",
    "    print(\"* * * \")\n"
   ]
  },
  {
   "cell_type": "code",
   "execution_count": 124,
   "id": "792146d8",
   "metadata": {},
   "outputs": [
    {
     "name": "stdout",
     "output_type": "stream",
     "text": [
      "* * *\n",
      "*   *\n",
      "* * *\n",
      "*   \n",
      "*  \n"
     ]
    }
   ],
   "source": [
    "x1=1\n",
    "x2=2\n",
    "x3=3\n",
    "x4=4\n",
    "x5=5\n",
    "if x1==1:\n",
    "    print(\"* * *\")\n",
    "if x2==2:\n",
    "    print(\"*   *\")\n",
    "if x3==3:\n",
    "    print(\"* * *\")\n",
    "if x4==4:\n",
    "    print(\"*   \")\n",
    "if x5==5:\n",
    "    print(\"*  \")"
   ]
  },
  {
   "cell_type": "code",
   "execution_count": 12,
   "id": "b42d7998",
   "metadata": {},
   "outputs": [
    {
     "name": "stdout",
     "output_type": "stream",
     "text": [
      "* * *\n",
      "*   *\n",
      "* * *\n",
      "*  **\n",
      "* * * \n",
      "      *\n"
     ]
    }
   ],
   "source": [
    "x1=1\n",
    "x2=2\n",
    "x3=3\n",
    "x4=4\n",
    "x5=5\n",
    "x6=6\n",
    "if x1==1:\n",
    "    print(\"* * *\")\n",
    "if x2==2:\n",
    "    print(\"*   *\")\n",
    "if x3==3:\n",
    "    print(\"* * *\")\n",
    "if x4==4:\n",
    "    print(\"*  **\")\n",
    "if x5==5:\n",
    "    print(\"* * * \")\n",
    "    print( \"      *\")"
   ]
  },
  {
   "cell_type": "code",
   "execution_count": 14,
   "id": "703c004d",
   "metadata": {},
   "outputs": [
    {
     "name": "stdout",
     "output_type": "stream",
     "text": [
      "* * *\n",
      "*   *\n",
      "* * *\n",
      "*   *\n",
      "*    *\n"
     ]
    }
   ],
   "source": [
    "x1=1\n",
    "x2=2\n",
    "x3=3\n",
    "x4=4\n",
    "x5=5\n",
    "if x1==1:\n",
    "    print(\"* * *\")\n",
    "if x2==2:\n",
    "    print(\"*   *\")\n",
    "if x3==3:\n",
    "    print(\"* * *\")\n",
    "if x4==4:\n",
    "    print(\"*   *\")\n",
    "if x5==5:\n",
    "    print(\"*    *\")"
   ]
  },
  {
   "cell_type": "code",
   "execution_count": 17,
   "id": "d05326e6",
   "metadata": {},
   "outputs": [
    {
     "name": "stdout",
     "output_type": "stream",
     "text": [
      "* * *\n",
      "*  \n",
      "* * *\n",
      "    *\n",
      "* * * \n"
     ]
    }
   ],
   "source": [
    "x1=1\n",
    "x2=2\n",
    "x3=3\n",
    "x4=4\n",
    "x5=5\n",
    "if x1==1:\n",
    "    print(\"* * *\")\n",
    "if x2==2:\n",
    "    print(\"*  \")\n",
    "if x3==3:\n",
    "    print(\"* * *\")\n",
    "if x4==4:\n",
    "    print(\"    *\")\n",
    "if x5==5:\n",
    "    print(\"* * * \")"
   ]
  },
  {
   "cell_type": "code",
   "execution_count": 19,
   "id": "791b273b",
   "metadata": {},
   "outputs": [
    {
     "name": "stdout",
     "output_type": "stream",
     "text": [
      "* * *\n",
      "  *\n",
      "  * \n",
      "  * \n",
      "  *  \n"
     ]
    }
   ],
   "source": [
    "x1=1\n",
    "x2=2\n",
    "x3=3\n",
    "x4=4\n",
    "x5=5\n",
    "if x1==1:\n",
    "    print(\"* * *\")\n",
    "if x2==2:\n",
    "    print(\"  *\")\n",
    "if x3==3:\n",
    "    print(\"  * \")\n",
    "if x4==4:\n",
    "    print(\"  * \")\n",
    "if x5==5:\n",
    "    print(\"  *  \")"
   ]
  },
  {
   "cell_type": "code",
   "execution_count": 21,
   "id": "a2eb3f3a",
   "metadata": {},
   "outputs": [
    {
     "name": "stdout",
     "output_type": "stream",
     "text": [
      "*   *\n",
      "*   *\n",
      "*   *\n",
      "*   *\n",
      "* * * \n"
     ]
    }
   ],
   "source": [
    "x1=1\n",
    "x2=2\n",
    "x3=3\n",
    "x4=4\n",
    "x5=5\n",
    "if x1==1:\n",
    "    print(\"*   *\")\n",
    "if x2==2:\n",
    "    print(\"*   *\")\n",
    "if x3==3:\n",
    "    print(\"*   *\")\n",
    "if x4==4:\n",
    "    print(\"*   *\")\n",
    "if x5==5:\n",
    "    print(\"* * * \")"
   ]
  },
  {
   "cell_type": "code",
   "execution_count": 25,
   "id": "1610ef00",
   "metadata": {},
   "outputs": [
    {
     "name": "stdout",
     "output_type": "stream",
     "text": [
      "*       *\n",
      " *     *\n",
      "  *   *\n",
      "   * *\n",
      "    * \n"
     ]
    }
   ],
   "source": [
    "x1=1\n",
    "x2=2\n",
    "x3=3\n",
    "x4=4\n",
    "x5=5\n",
    "if x1==1:\n",
    "    print(\"*       *\")\n",
    "if x2==2:\n",
    "    print(\" *     *\")\n",
    "if x3==3:\n",
    "    print(\"  *   *\")\n",
    "if x4==4:\n",
    "    print(\"   * *\")\n",
    "if x5==5:\n",
    "    print(\"    * \")"
   ]
  },
  {
   "cell_type": "code",
   "execution_count": 27,
   "id": "fb72af7d",
   "metadata": {},
   "outputs": [
    {
     "name": "stdout",
     "output_type": "stream",
     "text": [
      "*       *       *\n",
      " *     * *     *\n",
      "  *   *   *   *\n",
      "   * *     * *\n",
      "    *       *\n"
     ]
    }
   ],
   "source": [
    "x1=1\n",
    "x2=2\n",
    "x3=3\n",
    "x4=4\n",
    "x5=5\n",
    "if x1==1:\n",
    "    print(\"*       *       *\")\n",
    "if x2==2:\n",
    "    print(\" *     * *     *\")\n",
    "if x3==3:\n",
    "    print(\"  *   *   *   *\")\n",
    "if x4==4:\n",
    "    print(\"   * *     * *\")\n",
    "if x5==5:\n",
    "    print(\"    *       *\")"
   ]
  },
  {
   "cell_type": "code",
   "execution_count": 29,
   "id": "7a3615f3",
   "metadata": {},
   "outputs": [
    {
     "name": "stdout",
     "output_type": "stream",
     "text": [
      "*   *\n",
      " * *\n",
      "  * \n",
      " * *\n",
      "*   *\n"
     ]
    }
   ],
   "source": [
    "x1=1\n",
    "x2=2\n",
    "x3=3\n",
    "x4=4\n",
    "x5=5\n",
    "if x1==1:\n",
    "    print(\"*   *\")\n",
    "if x2==2:\n",
    "    print(\" * *\")\n",
    "if x3==3:\n",
    "    print(\"  * \")\n",
    "if x4==4:\n",
    "    print(\" * *\")\n",
    "if x5==5:\n",
    "    print(\"*   *\")"
   ]
  },
  {
   "cell_type": "code",
   "execution_count": 31,
   "id": "93d66164",
   "metadata": {},
   "outputs": [
    {
     "name": "stdout",
     "output_type": "stream",
     "text": [
      "*   *\n",
      " * *\n",
      "  * \n",
      " * \n",
      "* \n"
     ]
    }
   ],
   "source": [
    "x1=1\n",
    "x2=2\n",
    "x3=3\n",
    "x4=4\n",
    "x5=5\n",
    "if x1==1:\n",
    "    print(\"*   *\")\n",
    "if x2==2:\n",
    "    print(\" * *\")\n",
    "if x3==3:\n",
    "    print(\"  * \")\n",
    "if x4==4:\n",
    "    print(\" * \")\n",
    "if x5==5:\n",
    "    print(\"* \")"
   ]
  },
  {
   "cell_type": "code",
   "execution_count": 33,
   "id": "18c7b198",
   "metadata": {},
   "outputs": [
    {
     "name": "stdout",
     "output_type": "stream",
     "text": [
      "* * *\n",
      "   *\n",
      "  * \n",
      " * \n",
      "* * *\n"
     ]
    }
   ],
   "source": [
    "x1=1\n",
    "x2=2\n",
    "x3=3\n",
    "x4=4\n",
    "x5=5\n",
    "if x1==1:\n",
    "    print(\"* * *\")\n",
    "if x2==2:\n",
    "    print(\"   *\")\n",
    "if x3==3:\n",
    "    print(\"  * \")\n",
    "if x4==4:\n",
    "    print(\" * \")\n",
    "if x5==5:\n",
    "    print(\"* * *\")"
   ]
  },
  {
   "cell_type": "code",
   "execution_count": null,
   "id": "7f22f6d4",
   "metadata": {},
   "outputs": [],
   "source": []
  }
 ],
 "metadata": {
  "kernelspec": {
   "display_name": "Python 3 (ipykernel)",
   "language": "python",
   "name": "python3"
  },
  "language_info": {
   "codemirror_mode": {
    "name": "ipython",
    "version": 3
   },
   "file_extension": ".py",
   "mimetype": "text/x-python",
   "name": "python",
   "nbconvert_exporter": "python",
   "pygments_lexer": "ipython3",
   "version": "3.10.9"
  }
 },
 "nbformat": 4,
 "nbformat_minor": 5
}
