{
 "cells": [
  {
   "cell_type": "code",
   "execution_count": 1,
   "id": "8d22b611",
   "metadata": {},
   "outputs": [
    {
     "name": "stdout",
     "output_type": "stream",
     "text": [
      "  *  \n",
      "*   *\n",
      "* * *\n",
      "*   *\n",
      "*   *\n"
     ]
    }
   ],
   "source": [
    "x=0\n",
    "while x<5:\n",
    "    if x==0:\n",
    "        print(\"  *  \")\n",
    "    elif x==1 or x==3  or x==4:\n",
    "        print(\"*   *\")\n",
    "    else:\n",
    "        print(\"* * *\")\n",
    "    x=x+1 "
   ]
  },
  {
   "cell_type": "code",
   "execution_count": 17,
   "id": "e9ccdae0",
   "metadata": {},
   "outputs": [
    {
     "name": "stdout",
     "output_type": "stream",
     "text": [
      "* * *\n",
      "*    *\n",
      "* * *\n",
      "*    *\n",
      "* * *\n"
     ]
    }
   ],
   "source": [
    "x=0\n",
    "while x<5:\n",
    "    if x==0 or x==4:\n",
    "        print(\"* * *\")\n",
    "    elif x==1 or x==3:\n",
    "        print(\"*    *\")\n",
    "    else:\n",
    "        print(\"* * *\")\n",
    "    x=x+1 "
   ]
  },
  {
   "cell_type": "code",
   "execution_count": 13,
   "id": "5490308e",
   "metadata": {},
   "outputs": [
    {
     "name": "stdout",
     "output_type": "stream",
     "text": [
      "* * *\n",
      "*\n",
      "*\n",
      "*\n",
      "* * *\n"
     ]
    }
   ],
   "source": [
    "x=0\n",
    "while x<5:\n",
    "    if x==0 or x==4:\n",
    "        print(\"* * *\")\n",
    "    elif x==1 or x==3:\n",
    "        print(\"*\")\n",
    "    else:\n",
    "        print(\"*\")\n",
    "    x=x+1 "
   ]
  },
  {
   "cell_type": "code",
   "execution_count": 15,
   "id": "00964586",
   "metadata": {},
   "outputs": [
    {
     "name": "stdout",
     "output_type": "stream",
     "text": [
      "* * *\n",
      "*    *\n",
      "*\n",
      "*    *\n",
      "* * *\n"
     ]
    }
   ],
   "source": [
    "x=0\n",
    "while x<5:\n",
    "    if x==0 or x==4:\n",
    "        print(\"* * *\")\n",
    "    elif x==1 or x==3:\n",
    "        print(\"*    *\")\n",
    "    else:\n",
    "        print(\"*\")\n",
    "    x=x+1 "
   ]
  },
  {
   "cell_type": "code",
   "execution_count": 22,
   "id": "d5f80ea2",
   "metadata": {},
   "outputs": [
    {
     "name": "stdout",
     "output_type": "stream",
     "text": [
      "* * *\n",
      "*\n",
      "* * *\n",
      "*\n",
      "* * *\n"
     ]
    }
   ],
   "source": [
    "x=0\n",
    "while x<5:\n",
    "    if x==0 or x==4:\n",
    "        print(\"* * *\")\n",
    "    elif x==1 or x==3:\n",
    "        print(\"*\")\n",
    "    else:\n",
    "        print(\"* * *\")\n",
    "    x=x+1 "
   ]
  },
  {
   "cell_type": "code",
   "execution_count": 34,
   "id": "cb2e7df7",
   "metadata": {},
   "outputs": [
    {
     "name": "stdout",
     "output_type": "stream",
     "text": [
      "* * *\n",
      "*\n",
      "* * *\n",
      "*\n",
      "*\n"
     ]
    }
   ],
   "source": [
    "x=0\n",
    "while x<5:\n",
    "    if x==0 or x==2:\n",
    "        print(\"* * *\")\n",
    "    elif x==1 or x==3:\n",
    "        print(\"*\")\n",
    "    else:\n",
    "        print(\"*\")\n",
    "    x=x+1 "
   ]
  },
  {
   "cell_type": "code",
   "execution_count": 37,
   "id": "308fcb37",
   "metadata": {},
   "outputs": [
    {
     "name": "stdout",
     "output_type": "stream",
     "text": [
      "* * *\n",
      "*\n",
      "* * *\n",
      "*   *\n",
      "* * *\n"
     ]
    }
   ],
   "source": [
    "x=0\n",
    "while x<5:\n",
    "    if x==0 or x==2:\n",
    "        print(\"* * *\")\n",
    "    elif x==1: \n",
    "        print(\"*\")\n",
    "    elif x==3:\n",
    "        print(\"*   *\")\n",
    "    else:\n",
    "        print(\"* * *\")\n",
    "    x=x+1 "
   ]
  },
  {
   "cell_type": "code",
   "execution_count": 42,
   "id": "de68712d",
   "metadata": {},
   "outputs": [
    {
     "name": "stdout",
     "output_type": "stream",
     "text": [
      "*   *\n",
      "*   *\n",
      "* * *\n",
      "*   *\n",
      "*   *\n"
     ]
    }
   ],
   "source": [
    "x=0\n",
    "while x<5:\n",
    "    if x==0 or x==4:\n",
    "        print(\"*   *\")\n",
    "    elif x==1 or x==3:\n",
    "        print(\"*   *\")\n",
    "    else:\n",
    "        print(\"* * *\")\n",
    "    x=x+1 "
   ]
  },
  {
   "cell_type": "code",
   "execution_count": 47,
   "id": "3020cbf4",
   "metadata": {},
   "outputs": [
    {
     "name": "stdout",
     "output_type": "stream",
     "text": [
      "* * *\n",
      "  *  \n",
      "  * \n",
      "  *  \n",
      "* * *\n"
     ]
    }
   ],
   "source": [
    "x=0\n",
    "while x<5:\n",
    "    if x==0 or x==4:\n",
    "        print(\"* * *\")\n",
    "    elif x==1 or x==3:\n",
    "        print(\"  *  \")\n",
    "    else:\n",
    "        print(\"  * \")\n",
    "    x=x+1 "
   ]
  },
  {
   "cell_type": "code",
   "execution_count": 50,
   "id": "3d6b9549",
   "metadata": {},
   "outputs": [
    {
     "name": "stdout",
     "output_type": "stream",
     "text": [
      "* * *\n",
      "  *  \n",
      "  *  \n",
      "  *  \n",
      "* *  \n"
     ]
    }
   ],
   "source": [
    "x=0\n",
    "while x<5:\n",
    "    if x==0:\n",
    "        print(\"* * *\")\n",
    "    elif x==4:\n",
    "        print(\"* *  \")\n",
    "    elif x==1 or x==3:\n",
    "        print(\"  *  \")\n",
    "    else:\n",
    "        print(\"  *  \")\n",
    "    x=x+1 "
   ]
  },
  {
   "cell_type": "code",
   "execution_count": 64,
   "id": "26fbbdef",
   "metadata": {},
   "outputs": [
    {
     "name": "stdout",
     "output_type": "stream",
     "text": [
      "*    *\n",
      "*   *\n",
      "* *\n",
      "*   *\n",
      "*    *\n"
     ]
    }
   ],
   "source": [
    "x=0\n",
    "while x<5:\n",
    "    if x==0 or x==4:\n",
    "        print(\"*    *\")\n",
    "    elif x==1:\n",
    "        print(\"*   *\")\n",
    "    elif x==2:\n",
    "        print(\"* *\")\n",
    "    else:\n",
    "        print(\"*   *\")\n",
    "    x=x+1 "
   ]
  },
  {
   "cell_type": "code",
   "execution_count": 71,
   "id": "a8e83e49",
   "metadata": {},
   "outputs": [
    {
     "name": "stdout",
     "output_type": "stream",
     "text": [
      "*\n",
      "*\n",
      "*\n",
      "*\n",
      "* * *\n"
     ]
    }
   ],
   "source": [
    "x=0\n",
    "while x<5:\n",
    "    if x==0:\n",
    "        print(\"*\")\n",
    "    elif x==2:\n",
    "        print(\"*\")\n",
    "    elif x==1 or x==3:\n",
    "        print(\"*\")\n",
    "    else:\n",
    "        print(\"* * *\")\n",
    "    x=x+1 "
   ]
  },
  {
   "cell_type": "code",
   "execution_count": 80,
   "id": "ac6af4c7",
   "metadata": {},
   "outputs": [
    {
     "name": "stdout",
     "output_type": "stream",
     "text": [
      "*     *\n",
      "*  *  *\n",
      "*  *  *\n",
      "*     *\n",
      "*     *\n"
     ]
    }
   ],
   "source": [
    "x=0\n",
    "while x<5:\n",
    "    if x==0 or x==4:\n",
    "        print(\"*     *\")\n",
    "    elif x==1:\n",
    "        print(\"*  *  *\")\n",
    "    elif x==3:\n",
    "        print(\"*     *\")\n",
    "    else:\n",
    "        print(\"*  *  *\")\n",
    "    x=x+1 "
   ]
  },
  {
   "cell_type": "code",
   "execution_count": 100,
   "id": "3a2fff37",
   "metadata": {},
   "outputs": [
    {
     "name": "stdout",
     "output_type": "stream",
     "text": [
      "*     *\n",
      "**    *\n",
      "*  *  *\n",
      "*    **\n",
      "*     *\n"
     ]
    }
   ],
   "source": [
    "x=0\n",
    "while x<5:\n",
    "    if x==0 :\n",
    "        print(\"*     *\")\n",
    "    elif x==4:\n",
    "        print(\"*     *\")\n",
    "    elif x==2:\n",
    "        print(\"*  *  *\")\n",
    "    elif x==1:\n",
    "        print(\"**    *\")\n",
    "    elif x==3:\n",
    "        print(\"*    **\")\n",
    "    else:\n",
    "        print(\"*     *\")\n",
    "    x=x+1 "
   ]
  },
  {
   "cell_type": "code",
   "execution_count": 3,
   "id": "acbc74ce",
   "metadata": {},
   "outputs": [
    {
     "name": "stdout",
     "output_type": "stream",
     "text": [
      "*  *  *\n",
      "*     *\n",
      "*     *\n",
      "*     *\n",
      "*  *  *\n"
     ]
    }
   ],
   "source": [
    "x=0\n",
    "while x<5:\n",
    "    if x==0 :\n",
    "        print(\"*  *  *\")\n",
    "    elif x==4:\n",
    "        print(\"*  *  *\")\n",
    "    elif x==2:\n",
    "        print(\"*     *\")\n",
    "    elif x==1:\n",
    "        print(\"*     *\")\n",
    "    elif x==3:\n",
    "        print(\"*     *\")\n",
    "    else:\n",
    "        print(\"*  *  *\")\n",
    "    x=x+1 "
   ]
  },
  {
   "cell_type": "code",
   "execution_count": 43,
   "id": "643759af",
   "metadata": {},
   "outputs": [
    {
     "name": "stdout",
     "output_type": "stream",
     "text": [
      "* * *\n",
      "*   *\n",
      "* * *\n",
      "*\n",
      "*  \n"
     ]
    }
   ],
   "source": [
    "x=0\n",
    "while x<5:\n",
    "    if x==0:\n",
    "        print(\"* * *\")\n",
    "    elif x==1:\n",
    "        print(\"*   *\")\n",
    "    elif x==2:\n",
    "        print(\"* * *\")\n",
    "    elif x==3:\n",
    "        print(\"*\")\n",
    "    else:\n",
    "        print(\"*  \")\n",
    "    x=x+1"
   ]
  },
  {
   "cell_type": "code",
   "execution_count": 44,
   "id": "e44a8406",
   "metadata": {},
   "outputs": [
    {
     "name": "stdout",
     "output_type": "stream",
     "text": [
      "* * * *\n",
      "*     *\n",
      "*  *  *\n",
      "*    **\n",
      "* * * * *\n",
      "          *\n"
     ]
    }
   ],
   "source": [
    "x=0\n",
    "while x<5:\n",
    "    if x==0:\n",
    "        print(\"* * * *\")\n",
    "    elif x==1:\n",
    "        print(\"*     *\")\n",
    "    elif x==2:\n",
    "        print(\"*  *  *\")\n",
    "    elif x==3:\n",
    "        print(\"*    **\")\n",
    "    else:\n",
    "        print(\"* * * * *\")\n",
    "        print(\"          *\")\n",
    "    x=x+1"
   ]
  },
  {
   "cell_type": "code",
   "execution_count": 45,
   "id": "f45d8880",
   "metadata": {},
   "outputs": [
    {
     "name": "stdout",
     "output_type": "stream",
     "text": [
      "* * *\n",
      "*   *\n",
      "* * *\n",
      "*  *\n",
      "*    *\n"
     ]
    }
   ],
   "source": [
    "x=0\n",
    "while x<5:\n",
    "    if x==0:\n",
    "        print(\"* * *\")\n",
    "    elif x==1:\n",
    "        print(\"*   *\")\n",
    "    elif x==2:\n",
    "        print(\"* * *\")\n",
    "    elif x==3:\n",
    "        print(\"*  *\")\n",
    "    else:\n",
    "        print(\"*    *\")\n",
    "    x=x+1"
   ]
  },
  {
   "cell_type": "code",
   "execution_count": 46,
   "id": "9c4a7cd3",
   "metadata": {},
   "outputs": [
    {
     "name": "stdout",
     "output_type": "stream",
     "text": [
      "* * *\n",
      "*\n",
      "* * *\n",
      "    *\n",
      "* * * \n"
     ]
    }
   ],
   "source": [
    "x=0\n",
    "while x<5:\n",
    "    if x==0:\n",
    "        print(\"* * *\")\n",
    "    elif x==1:\n",
    "        print(\"*\")\n",
    "    elif x==2:\n",
    "        print(\"* * *\")\n",
    "    elif x==3:\n",
    "        print(\"    *\")\n",
    "    else:\n",
    "        print(\"* * * \")\n",
    "    x=x+1"
   ]
  },
  {
   "cell_type": "code",
   "execution_count": 47,
   "id": "89d12f39",
   "metadata": {},
   "outputs": [
    {
     "name": "stdout",
     "output_type": "stream",
     "text": [
      "*  *  *\n",
      "   *  \n",
      "   *\n",
      "   *\n",
      "   * \n"
     ]
    }
   ],
   "source": [
    "x=0\n",
    "while x<5:\n",
    "    if x==0:\n",
    "        print(\"*  *  *\")\n",
    "    elif x==1:\n",
    "        print(\"   *  \")\n",
    "    elif x==2:\n",
    "        print(\"   *\")\n",
    "    elif x==3:\n",
    "        print(\"   *\")\n",
    "    else:\n",
    "        print(\"   * \")\n",
    "    x=x+1"
   ]
  },
  {
   "cell_type": "code",
   "execution_count": 48,
   "id": "57c2204a",
   "metadata": {},
   "outputs": [
    {
     "name": "stdout",
     "output_type": "stream",
     "text": [
      "*   *\n",
      "*   * \n",
      "*   * \n",
      "*   * \n",
      "* * * \n"
     ]
    }
   ],
   "source": [
    "x=0\n",
    "while x<5:\n",
    "    if x==0:\n",
    "        print(\"*   *\")\n",
    "    elif x==1 or x==3 or x==2:\n",
    "        print(\"*   * \")\n",
    "    else:\n",
    "        print(\"* * * \")\n",
    "    x=x+1"
   ]
  },
  {
   "cell_type": "code",
   "execution_count": 49,
   "id": "2252386e",
   "metadata": {},
   "outputs": [
    {
     "name": "stdout",
     "output_type": "stream",
     "text": [
      " *       *\n",
      "  *     * \n",
      "   *   *\n",
      "    * *\n",
      "     *   \n"
     ]
    }
   ],
   "source": [
    "x=0\n",
    "while x<5:\n",
    "    if x==0:\n",
    "        print(\" *       *\")\n",
    "    elif x==1:\n",
    "        print(\"  *     * \")\n",
    "    elif x==2:\n",
    "        print(\"   *   *\")\n",
    "    elif x==3:\n",
    "        print(\"    * *\")\n",
    "    else:\n",
    "        print(\"     *   \")\n",
    "    x=x+1"
   ]
  },
  {
   "cell_type": "code",
   "execution_count": 50,
   "id": "20bf4149",
   "metadata": {},
   "outputs": [
    {
     "name": "stdout",
     "output_type": "stream",
     "text": [
      " *       *       *\n",
      "  *     * *     *\n",
      "   *   *   *   *\n",
      "    * *     * *\n",
      "     *       *  \n"
     ]
    }
   ],
   "source": [
    "x=0\n",
    "while x<5:\n",
    "    if x==0:\n",
    "        print(\" *       *       *\")\n",
    "    elif x==1:\n",
    "        print(\"  *     * *     *\")\n",
    "    elif x==2:\n",
    "        print(\"   *   *   *   *\")\n",
    "    elif x==3:\n",
    "        print(\"    * *     * *\")\n",
    "    else:\n",
    "        print(\"     *       *  \")\n",
    "    x=x+1"
   ]
  },
  {
   "cell_type": "code",
   "execution_count": 51,
   "id": "558fbcb8",
   "metadata": {},
   "outputs": [
    {
     "name": "stdout",
     "output_type": "stream",
     "text": [
      " *   *\n",
      "  * * \n",
      "   * \n",
      "  * *\n",
      " *   *\n"
     ]
    }
   ],
   "source": [
    "x=0\n",
    "while x<5:\n",
    "    if x==0:\n",
    "        print(\" *   *\")\n",
    "    elif x==1:\n",
    "        print(\"  * * \")\n",
    "    elif x==2:\n",
    "        print(\"   * \")\n",
    "    elif x==3:\n",
    "        print(\"  * *\")\n",
    "    else:\n",
    "        print(\" *   *\")\n",
    "    x=x+1"
   ]
  },
  {
   "cell_type": "code",
   "execution_count": 52,
   "id": "a132b3db",
   "metadata": {},
   "outputs": [
    {
     "name": "stdout",
     "output_type": "stream",
     "text": [
      " *   *\n",
      "  * * \n",
      "   * \n",
      "  * \n",
      " *   \n"
     ]
    }
   ],
   "source": [
    "x=0\n",
    "while x<5:\n",
    "    if x==0:\n",
    "        print(\" *   *\")\n",
    "    elif x==1:\n",
    "        print(\"  * * \")\n",
    "    elif x==2:\n",
    "        print(\"   * \")\n",
    "    elif x==3:\n",
    "        print(\"  * \")\n",
    "    else:\n",
    "        print(\" *   \")\n",
    "    x=x+1"
   ]
  },
  {
   "cell_type": "code",
   "execution_count": 53,
   "id": "ac60542c",
   "metadata": {},
   "outputs": [
    {
     "name": "stdout",
     "output_type": "stream",
     "text": [
      " * * *\n",
      "    *  \n",
      "  * \n",
      " * \n",
      "* * * \n"
     ]
    }
   ],
   "source": [
    "x=0\n",
    "while x<5:\n",
    "    if x==0:\n",
    "        print(\" * * *\")\n",
    "    elif x==1:\n",
    "        print(\"    *  \")\n",
    "    elif x==2:\n",
    "        print(\"  * \")\n",
    "    elif x==3:\n",
    "        print(\" * \")\n",
    "    else:\n",
    "        print(\"* * * \")\n",
    "    x=x+1"
   ]
  },
  {
   "cell_type": "code",
   "execution_count": 54,
   "id": "bc549704",
   "metadata": {},
   "outputs": [
    {
     "name": "stdout",
     "output_type": "stream",
     "text": [
      "* * *\n",
      "*   *\n",
      "    *\n",
      "* * *\n",
      "*   *\n",
      "* * *\n",
      "    *\n"
     ]
    }
   ],
   "source": [
    "x=0\n",
    "while x<5:\n",
    "    if x==0:\n",
    "        print(\"* * *\")\n",
    "    elif x==1:\n",
    "        print(\"*   *\")\n",
    "    elif x==2:\n",
    "        print(\"    *\")\n",
    "    elif x==3:\n",
    "        print(\"* * *\")\n",
    "    else:\n",
    "        print(\"*   *\")\n",
    "        print(\"* * *\")\n",
    "        print(\"    *\")\n",
    "    x=x+1"
   ]
  },
  {
   "cell_type": "code",
   "execution_count": 55,
   "id": "edc4abd3",
   "metadata": {},
   "outputs": [
    {
     "name": "stdout",
     "output_type": "stream",
     "text": [
      "* \n",
      "* \n",
      "* * *\n",
      "*   *\n",
      "* * *\n"
     ]
    }
   ],
   "source": [
    "x=0\n",
    "while x<5:\n",
    "    if x==0:\n",
    "        print(\"* \")\n",
    "    elif x==1:\n",
    "        print(\"* \")\n",
    "    elif x==2:\n",
    "        print(\"* * *\")\n",
    "    elif x==3:\n",
    "        print(\"*   *\")\n",
    "    else:\n",
    "        print(\"* * *\")\n",
    "    x=x+1"
   ]
  },
  {
   "cell_type": "code",
   "execution_count": 56,
   "id": "eb845661",
   "metadata": {},
   "outputs": [
    {
     "name": "stdout",
     "output_type": "stream",
     "text": [
      "* * *\n",
      "*\n",
      "*\n",
      "*\n",
      "* * *\n"
     ]
    }
   ],
   "source": [
    "x=0\n",
    "while x<5:\n",
    "    if x==0 or x==4:\n",
    "        print(\"* * *\")\n",
    "    elif x==1 or x==3:\n",
    "        print(\"*\")\n",
    "    else:\n",
    "        print(\"*\")\n",
    "    x=x+1"
   ]
  },
  {
   "cell_type": "code",
   "execution_count": 57,
   "id": "171fed20",
   "metadata": {},
   "outputs": [
    {
     "name": "stdout",
     "output_type": "stream",
     "text": [
      "    * \n",
      "    * \n",
      "* * *\n",
      "*   *\n",
      "* * *\n"
     ]
    }
   ],
   "source": [
    "x=0\n",
    "while x<5:\n",
    "    if x==0:\n",
    "        print(\"    * \")\n",
    "    elif x==1:\n",
    "        print(\"    * \")\n",
    "    elif x==2:\n",
    "        print(\"* * *\")\n",
    "    elif x==3:\n",
    "        print(\"*   *\")\n",
    "    else:\n",
    "        print(\"* * *\")\n",
    "    x=x+1"
   ]
  },
  {
   "cell_type": "code",
   "execution_count": 58,
   "id": "3da4d9ee",
   "metadata": {},
   "outputs": [
    {
     "name": "stdout",
     "output_type": "stream",
     "text": [
      "* * *\n",
      "*   *\n",
      "* * *\n",
      "*    \n",
      "* * *\n"
     ]
    }
   ],
   "source": [
    "x=0\n",
    "while x<5:\n",
    "    if x==0:\n",
    "        print(\"* * *\")\n",
    "    elif x==1:\n",
    "        print(\"*   *\")\n",
    "    elif x==2:\n",
    "        print(\"* * *\")\n",
    "    elif x==3:\n",
    "        print(\"*    \")\n",
    "    else:\n",
    "        print(\"* * *\")\n",
    "    x=x+1 "
   ]
  },
  {
   "cell_type": "code",
   "execution_count": 59,
   "id": "18017c8f",
   "metadata": {},
   "outputs": [
    {
     "name": "stdout",
     "output_type": "stream",
     "text": [
      "  * * * \n",
      "  *   * \n",
      "  * \n",
      "* * *\n",
      "  * \n"
     ]
    }
   ],
   "source": [
    "x=0\n",
    "while x<5:\n",
    "    if x==0:\n",
    "        print(\"  * * * \")\n",
    "    elif x==1:\n",
    "        print(\"  *   * \")\n",
    "    elif x==2:\n",
    "        print(\"  * \")\n",
    "    elif x==3:\n",
    "        print(\"* * *\")\n",
    "    else:\n",
    "        print(\"  * \")\n",
    "    x=x+1"
   ]
  },
  {
   "cell_type": "code",
   "execution_count": 60,
   "id": "3efc55f0",
   "metadata": {},
   "outputs": [
    {
     "name": "stdout",
     "output_type": "stream",
     "text": [
      " * * * \n",
      " *   *\n",
      " * * * \n",
      "     *\n",
      " * * * \n"
     ]
    }
   ],
   "source": [
    "x=0\n",
    "while x<5:\n",
    "    if x==0:\n",
    "        print(\" * * * \")\n",
    "    elif x==1:\n",
    "        print(\" *   *\")\n",
    "    elif x==2:\n",
    "        print(\" * * * \")\n",
    "    elif x==3:\n",
    "        print(\"     *\")\n",
    "    else:\n",
    "        print(\" * * * \")\n",
    "    x=x+1"
   ]
  },
  {
   "cell_type": "code",
   "execution_count": 61,
   "id": "3d2c211f",
   "metadata": {},
   "outputs": [
    {
     "name": "stdout",
     "output_type": "stream",
     "text": [
      " *   * \n",
      " *   *\n",
      " * * * \n",
      " *   *\n",
      " *   * \n"
     ]
    }
   ],
   "source": [
    "x=0\n",
    "while x<5:\n",
    "    if x==0:\n",
    "        print(\" *   * \")\n",
    "    elif x==1:\n",
    "        print(\" *   *\")\n",
    "    elif x==2:\n",
    "        print(\" * * * \")\n",
    "    elif x==3:\n",
    "        print(\" *   *\")\n",
    "    else:\n",
    "        print(\" *   * \")\n",
    "    x=x+1"
   ]
  },
  {
   "cell_type": "code",
   "execution_count": 62,
   "id": "3d491c00",
   "metadata": {},
   "outputs": [
    {
     "name": "stdout",
     "output_type": "stream",
     "text": [
      " *** \n",
      "  *   \n",
      "  *  \n",
      "  *   \n",
      "  *   \n"
     ]
    }
   ],
   "source": [
    "x=0\n",
    "while x<5:\n",
    "    if x==0:\n",
    "        print(\" *** \")\n",
    "    elif x==1:\n",
    "        print(\"  *   \")\n",
    "    elif x==2:\n",
    "        print(\"  *  \")\n",
    "    elif x==3:\n",
    "        print(\"  *   \")\n",
    "    else:\n",
    "        print(\"  *   \")\n",
    "    x=x+1"
   ]
  },
  {
   "cell_type": "code",
   "execution_count": 63,
   "id": "b6861df9",
   "metadata": {},
   "outputs": [
    {
     "name": "stdout",
     "output_type": "stream",
     "text": [
      "   *** \n",
      "    *   \n",
      "    *  \n",
      "*   *   \n",
      "* * *   \n"
     ]
    }
   ],
   "source": [
    "x=0\n",
    "while x<5:\n",
    "    if x==0:\n",
    "        print(\"   *** \")\n",
    "    elif x==1:\n",
    "        print(\"    *   \")\n",
    "    elif x==2:\n",
    "        print(\"    *  \")\n",
    "    elif x==3:\n",
    "        print(\"*   *   \")\n",
    "    else:\n",
    "        print(\"* * *   \")\n",
    "    x=x+1"
   ]
  },
  {
   "cell_type": "code",
   "execution_count": 64,
   "id": "bfa63fd0",
   "metadata": {},
   "outputs": [
    {
     "name": "stdout",
     "output_type": "stream",
     "text": [
      "*   *\n",
      "* * \n",
      "** \n",
      "* * \n",
      "*   *\n"
     ]
    }
   ],
   "source": [
    "x=0\n",
    "while x<5:\n",
    "    if x==0 or x==4:\n",
    "        print(\"*   *\")\n",
    "    elif x==1 or x==3:\n",
    "        print(\"* * \")\n",
    "    else:\n",
    "        print(\"** \")\n",
    "    x=x+1"
   ]
  },
  {
   "cell_type": "code",
   "execution_count": 65,
   "id": "5631a787",
   "metadata": {},
   "outputs": [
    {
     "name": "stdout",
     "output_type": "stream",
     "text": [
      "*\n",
      "* \n",
      "* \n",
      "* \n",
      "* * * \n"
     ]
    }
   ],
   "source": [
    "x=0\n",
    "while x<5:\n",
    "    if x==0:\n",
    "        print(\"*\")\n",
    "    elif x==1 or x==3 or x==2:\n",
    "        print(\"* \")\n",
    "    else:\n",
    "        print(\"* * * \")\n",
    "    x=x+1"
   ]
  },
  {
   "cell_type": "code",
   "execution_count": 66,
   "id": "8b469036",
   "metadata": {},
   "outputs": [
    {
     "name": "stdout",
     "output_type": "stream",
     "text": [
      " *  *   * \n",
      "*  * * * *\n",
      "   *  *  *\n",
      "   *  *  *\n",
      "   *  *  *\n"
     ]
    }
   ],
   "source": [
    "x=0\n",
    "while x<5:\n",
    "    if x==0:\n",
    "        print(\" *  *   * \")\n",
    "    elif x==1:\n",
    "        print(\"*  * * * *\")\n",
    "    elif x==2:\n",
    "        print(\"   *  *  *\")\n",
    "    else:\n",
    "        print(\"   *  *  *\")\n",
    "    x=x+1  "
   ]
  },
  {
   "cell_type": "code",
   "execution_count": 67,
   "id": "36e18245",
   "metadata": {},
   "outputs": [
    {
     "name": "stdout",
     "output_type": "stream",
     "text": [
      " *   * \n",
      "  * * *\n",
      "   *  *\n",
      "   *  *\n",
      "   *  *\n"
     ]
    }
   ],
   "source": [
    "x=0\n",
    "while x<5:\n",
    "    if x==0:\n",
    "        print(\" *   * \")\n",
    "    elif x==1:\n",
    "        print(\"  * * *\")\n",
    "    elif x==2:\n",
    "        print(\"   *  *\")\n",
    "    else:\n",
    "        print(\"   *  *\")\n",
    "    x=x+1  "
   ]
  },
  {
   "cell_type": "code",
   "execution_count": 68,
   "id": "c73d0f2d",
   "metadata": {},
   "outputs": [
    {
     "name": "stdout",
     "output_type": "stream",
     "text": [
      "* * *\n",
      "*   * \n",
      "*   * \n",
      "*   * \n",
      "* * * \n"
     ]
    }
   ],
   "source": [
    "x=0\n",
    "while x<5:\n",
    "    if x==0:\n",
    "        print(\"* * *\")\n",
    "    elif x==1 or x==3 or x==2:\n",
    "        print(\"*   * \")\n",
    "    else:\n",
    "        print(\"* * * \")\n",
    "    x=x+1"
   ]
  },
  {
   "cell_type": "code",
   "execution_count": 69,
   "id": "22979f49",
   "metadata": {},
   "outputs": [
    {
     "name": "stdout",
     "output_type": "stream",
     "text": [
      "* * *\n",
      "*   *\n",
      "* * *\n",
      "*\n",
      "*  \n"
     ]
    }
   ],
   "source": [
    "x=0\n",
    "while x<5:\n",
    "    if x==0:\n",
    "        print(\"* * *\")\n",
    "    elif x==1:\n",
    "        print(\"*   *\")\n",
    "    elif x==2:\n",
    "        print(\"* * *\")\n",
    "    elif x==3:\n",
    "        print(\"*\")\n",
    "    else:\n",
    "        print(\"*  \")\n",
    "    x=x+1"
   ]
  },
  {
   "cell_type": "code",
   "execution_count": 70,
   "id": "417c61d0",
   "metadata": {},
   "outputs": [
    {
     "name": "stdout",
     "output_type": "stream",
     "text": [
      "* * *\n",
      "*   *\n",
      "* * *  *\n",
      "    * *\n",
      "    *  \n"
     ]
    }
   ],
   "source": [
    "x=0\n",
    "while x<5:\n",
    "    if x==0:\n",
    "        print(\"* * *\")\n",
    "    elif x==1:\n",
    "        print(\"*   *\")\n",
    "    elif x==2:\n",
    "        print(\"* * *  *\")\n",
    "    elif x==3:\n",
    "        print(\"    * *\")\n",
    "    else:\n",
    "        print(\"    *  \")\n",
    "    x=x+1"
   ]
  },
  {
   "cell_type": "code",
   "execution_count": 73,
   "id": "48de4a43",
   "metadata": {},
   "outputs": [
    {
     "name": "stdout",
     "output_type": "stream",
     "text": [
      "*      * \n",
      "  *   *\n",
      "    *  \n",
      "   * * \n",
      "    *  \n"
     ]
    }
   ],
   "source": [
    "x=0\n",
    "while x<5:\n",
    "    if x==0:\n",
    "        print(\"*      * \")\n",
    "    elif x==1:\n",
    "        print(\"  *   *\")\n",
    "    elif x==2:\n",
    "        print(\"    *  \")\n",
    "    elif x==3:\n",
    "        print(\"   * * \")\n",
    "    else:\n",
    "        print(\"    *  \")\n",
    "    x=x+1 "
   ]
  },
  {
   "cell_type": "code",
   "execution_count": 74,
   "id": "d45c58a1",
   "metadata": {},
   "outputs": [
    {
     "name": "stdout",
     "output_type": "stream",
     "text": [
      "* * *\n",
      "*\n",
      "* * *\n",
      "    *\n",
      "* * * \n"
     ]
    }
   ],
   "source": [
    "x=0\n",
    "while x<5:\n",
    "    if x==0:\n",
    "        print(\"* * *\")\n",
    "    elif x==1:\n",
    "        print(\"*\")\n",
    "    elif x==2:\n",
    "        print(\"* * *\")\n",
    "    elif x==3:\n",
    "        print(\"    *\")\n",
    "    else:\n",
    "        print(\"* * * \")\n",
    "    x=x+1"
   ]
  },
  {
   "cell_type": "code",
   "execution_count": 75,
   "id": "b72e2f9f",
   "metadata": {},
   "outputs": [
    {
     "name": "stdout",
     "output_type": "stream",
     "text": [
      "  * \n",
      "  *\n",
      "* * *\n",
      "  *   \n",
      "  *** \n"
     ]
    }
   ],
   "source": [
    "x=0\n",
    "while x<5:\n",
    "    if x==0:\n",
    "        print(\"  * \")\n",
    "    elif x==1:\n",
    "        print(\"  *\")\n",
    "    elif x==2:\n",
    "        print(\"* * *\")\n",
    "    elif x==3:\n",
    "        print(\"  *   \")\n",
    "    else:\n",
    "        print(\"  *** \")\n",
    "    x=x+1"
   ]
  },
  {
   "cell_type": "code",
   "execution_count": 78,
   "id": "582fb19e",
   "metadata": {},
   "outputs": [
    {
     "name": "stdout",
     "output_type": "stream",
     "text": [
      "*   * \n",
      "*   *\n",
      "*   **\n",
      "*   * *\n",
      "* * *   * \n"
     ]
    }
   ],
   "source": [
    "x=0\n",
    "while x<5:\n",
    "    if x==0:\n",
    "        print(\"*   * \")\n",
    "    elif x==1:\n",
    "        print(\"*   *\")\n",
    "    elif x==2:\n",
    "        print(\"*   **\")\n",
    "    elif x==3:\n",
    "        print(\"*   * *\")\n",
    "    else:\n",
    "        print(\"* * *   * \")\n",
    "    x=x+1"
   ]
  },
  {
   "cell_type": "code",
   "execution_count": 79,
   "id": "529a26ff",
   "metadata": {},
   "outputs": [
    {
     "name": "stdout",
     "output_type": "stream",
     "text": [
      " *       *\n",
      "  *     * \n",
      "   *   *\n",
      "    * *\n",
      "     *   \n"
     ]
    }
   ],
   "source": [
    "x=0\n",
    "while x<5:\n",
    "    if x==0:\n",
    "        print(\" *       *\")\n",
    "    elif x==1:\n",
    "        print(\"  *     * \")\n",
    "    elif x==2:\n",
    "        print(\"   *   *\")\n",
    "    elif x==3:\n",
    "        print(\"    * *\")\n",
    "    else:\n",
    "        print(\"     *   \")\n",
    "    x=x+1"
   ]
  },
  {
   "cell_type": "code",
   "execution_count": 80,
   "id": "70e2b8d7",
   "metadata": {},
   "outputs": [
    {
     "name": "stdout",
     "output_type": "stream",
     "text": [
      "*   *   *\n",
      "*   *   *\n",
      "*   *   *\n",
      "*  * *  *\n",
      "* *   * * \n"
     ]
    }
   ],
   "source": [
    "x=0\n",
    "while x<5:\n",
    "    if x==0:\n",
    "        print(\"*   *   *\")\n",
    "    elif x==1:\n",
    "        print(\"*   *   *\")\n",
    "    elif x==2:\n",
    "        print(\"*   *   *\")\n",
    "    elif x==3:\n",
    "        print(\"*  * *  *\")\n",
    "    else:\n",
    "        print(\"* *   * * \")\n",
    "    x=x+1"
   ]
  },
  {
   "cell_type": "code",
   "execution_count": 81,
   "id": "8d478ff3",
   "metadata": {},
   "outputs": [
    {
     "name": "stdout",
     "output_type": "stream",
     "text": [
      " *     *\n",
      "   * * \n",
      "    * \n",
      "   * *\n",
      " *     *\n"
     ]
    }
   ],
   "source": [
    "x=0\n",
    "while x<5:\n",
    "    if x==0:\n",
    "        print(\" *     *\")\n",
    "    elif x==1:\n",
    "        print(\"   * * \")\n",
    "    elif x==2:\n",
    "        print(\"    * \")\n",
    "    elif x==3:\n",
    "        print(\"   * *\")\n",
    "    else:\n",
    "        print(\" *     *\")\n",
    "    x=x+1"
   ]
  },
  {
   "cell_type": "code",
   "execution_count": 82,
   "id": "198fa8df",
   "metadata": {},
   "outputs": [
    {
     "name": "stdout",
     "output_type": "stream",
     "text": [
      " *   *\n",
      " * * * \n",
      "     * \n",
      " *   *\n",
      " * * *\n"
     ]
    }
   ],
   "source": [
    "x=0\n",
    "while x<5:\n",
    "    if x==0:\n",
    "        print(\" *   *\")\n",
    "    elif x==1:\n",
    "        print(\" * * * \")\n",
    "    elif x==2:\n",
    "        print(\"     * \")\n",
    "    elif x==3:\n",
    "        print(\" *   *\")\n",
    "    else:\n",
    "        print(\" * * *\")\n",
    "    x=x+1"
   ]
  },
  {
   "cell_type": "code",
   "execution_count": 83,
   "id": "4a8647d1",
   "metadata": {},
   "outputs": [
    {
     "name": "stdout",
     "output_type": "stream",
     "text": [
      "  * * *\n",
      "     * \n",
      " * * * * \n",
      "   * \n",
      "  * * *\n"
     ]
    }
   ],
   "source": [
    "x=0\n",
    "while x<5:\n",
    "    if x==0:\n",
    "        print(\"  * * *\")\n",
    "    elif x==1:\n",
    "        print(\"     * \")\n",
    "    elif x==2:\n",
    "        print(\" * * * * \")\n",
    "    elif x==3:\n",
    "        print(\"   * \")\n",
    "    else:\n",
    "        print(\"  * * *\")\n",
    "    x=x+1"
   ]
  },
  {
   "cell_type": "code",
   "execution_count": null,
   "id": "e63fa6be",
   "metadata": {},
   "outputs": [],
   "source": []
  }
 ],
 "metadata": {
  "kernelspec": {
   "display_name": "Python 3 (ipykernel)",
   "language": "python",
   "name": "python3"
  },
  "language_info": {
   "codemirror_mode": {
    "name": "ipython",
    "version": 3
   },
   "file_extension": ".py",
   "mimetype": "text/x-python",
   "name": "python",
   "nbconvert_exporter": "python",
   "pygments_lexer": "ipython3",
   "version": "3.10.9"
  }
 },
 "nbformat": 4,
 "nbformat_minor": 5
}
