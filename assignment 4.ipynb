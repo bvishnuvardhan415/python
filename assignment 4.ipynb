{
 "cells": [
  {
   "cell_type": "code",
   "execution_count": 1,
   "id": "c98606d1",
   "metadata": {},
   "outputs": [
    {
     "name": "stdout",
     "output_type": "stream",
     "text": [
      "1\n",
      "2\n",
      "3\n",
      "4\n",
      "5\n",
      "6\n"
     ]
    }
   ],
   "source": [
    "#1) Write a Python program to loop through all the elements in a list\n",
    "#Ex:\n",
    "#Input: [1,2,3,4,5,6] Output:\n",
    "#1\n",
    "#2\n",
    "#3\n",
    "#4 \n",
    "#5 \n",
    "#6\n",
    "\n",
    "x=[1,2,3,4,5,6]\n",
    "for y in range(0,6):\n",
    "    print(x[y])"
   ]
  },
  {
   "cell_type": "code",
   "execution_count": 2,
   "id": "97bb1f35",
   "metadata": {},
   "outputs": [
    {
     "name": "stdout",
     "output_type": "stream",
     "text": [
      "Please enter an element you want to insert in the list 0\n",
      "Please enter q to quit the program w\n",
      "Please enter an element you want to insert in the list @\n",
      "Please enter q to quit the program q\n",
      "['0', '@']\n"
     ]
    }
   ],
   "source": [
    "#2. Write a Python program where you will ask the users to insert elements in a list\n",
    "\n",
    "x=[];a=\"\";b=0\n",
    "while not(a==\"q\" or a==\"Q\"):\n",
    "    i=input(\"Please enter an element you want to insert in the list \")\n",
    "    x.insert(b,i)\n",
    "    b+=1\n",
    "    a=input(\"Please enter q to quit the program \")\n",
    "print(x)"
   ]
  },
  {
   "cell_type": "code",
   "execution_count": 3,
   "id": "6538db9e",
   "metadata": {},
   "outputs": [
    {
     "name": "stdout",
     "output_type": "stream",
     "text": [
      "[1, 3, 5, 7]\n"
     ]
    }
   ],
   "source": [
    "#3. Write a Python program to remove all the odd index value from a list and only even index elements should remain\n",
    "#Ex:\n",
    "#Input: [1,2,3,4,5,6,7,”a”]\n",
    "#Output: [1,3,5,7]\n",
    "l=[]\n",
    "x=[1,2,3,4,5,6,7,\"a\"]\n",
    "for y in range(0,len(x)):\n",
    "    if y%2==0:\n",
    "        l.append(x[y])\n",
    "    else:\n",
    "        continue\n",
    "print(l)   "
   ]
  },
  {
   "cell_type": "code",
   "execution_count": 4,
   "id": "eecba443",
   "metadata": {},
   "outputs": [
    {
     "data": {
      "text/plain": [
       "[1, 3, 5, 7]"
      ]
     },
     "execution_count": 4,
     "metadata": {},
     "output_type": "execute_result"
    }
   ],
   "source": [
    "x=[1,2,3,4,5,6,7,\"a\"]\n",
    "x[::2]"
   ]
  },
  {
   "cell_type": "code",
   "execution_count": 2,
   "id": "5ee3880d",
   "metadata": {},
   "outputs": [
    {
     "name": "stdout",
     "output_type": "stream",
     "text": [
      "Enter the size of the list 1\n",
      "Enter a number: 2\n",
      "Sum:- 2\n",
      "Product: 2\n"
     ]
    }
   ],
   "source": [
    "#4. Write a Python program to sum and multiply all the items in a list\n",
    "#Ex:\n",
    "#Input: [1,2,3,4] Output: sum:- 10\n",
    "#Product:- 24\n",
    "\n",
    "l=[]\n",
    "a=int(input(\"Enter the size of the list \"))\n",
    "for z in range(0,a):\n",
    "    b=int(input(\"Enter a number: \"))\n",
    "    l.append(b)\n",
    "\n",
    "s=0;p=1\n",
    "for x in l:\n",
    "    s+=x\n",
    "    p*=x\n",
    "print(\"Sum:- \"+str(s)+\"\\nProduct: \"+str(p))"
   ]
  },
  {
   "cell_type": "code",
   "execution_count": 3,
   "id": "1a7a91f9",
   "metadata": {},
   "outputs": [
    {
     "name": "stdout",
     "output_type": "stream",
     "text": [
      "Enter the length of the list 4\n",
      "Enter a number: -23\n",
      "Enter a number: 2\n",
      "Enter a number: 3\n",
      "Enter a number: 4\n",
      "Max:  4 \n",
      "Min:  -23\n"
     ]
    }
   ],
   "source": [
    "#5. Write a Python program to get the maximum and minimum numbers from a list\n",
    "#Ex:\n",
    "#Input: [8,4,11,7,90]\n",
    "#Output: max: - 90 Min: - 4\n",
    "\n",
    "l=[]\n",
    "y=int(input(\"Enter the length of the list \"))\n",
    "for x in range(0,y):\n",
    "    z=int(input(\"Enter a number: \"))\n",
    "    l.append(z)\n",
    "max1=0;min1=l[0]\n",
    "for x in l:\n",
    "    a=x; b=x\n",
    "    if max1<a:\n",
    "        max1=a\n",
    "    if b<min1:\n",
    "        min1=b\n",
    "print(\"Max: \",max1,\"\\nMin: \",min1)"
   ]
  },
  {
   "cell_type": "code",
   "execution_count": 9,
   "id": "ac39f12d",
   "metadata": {},
   "outputs": [
    {
     "name": "stdout",
     "output_type": "stream",
     "text": [
      "Enter a number greater than or equal to 6 as the length of the list 6\n",
      "Enter a value: red\n",
      "Enter a value: green\n",
      "Enter a value: white\n",
      "Enter a value: black\n",
      "Enter a value: pink\n",
      "Enter a value: yellow\n",
      "['green', 'white', 'black']\n"
     ]
    }
   ],
   "source": [
    "#6.Write a python program to print a specified list after removing the 0th,4th and 5th elements.\n",
    "#Ex:\n",
    "#Input: ['Red', 'Green', 'White', 'Black', 'Pink', 'Yellow'] \n",
    "#Output: ['Green', 'White', 'Black']\n",
    "\n",
    "l=[];l1=[]\n",
    "y=int(input(\"Enter a number greater than or equal to 6 as the length of the list \"))\n",
    "for x in range(0,y):\n",
    "    a=input(\"Enter a value: \")\n",
    "    l.append(a)\n",
    "\n",
    "for z in range(0,y):\n",
    "    if z==0 or z==4 or z==5:\n",
    "        continue\n",
    "    else:\n",
    "        l1.append(l[z])\n",
    "print(l1)"
   ]
  },
  {
   "cell_type": "code",
   "execution_count": 10,
   "id": "6820732b",
   "metadata": {},
   "outputs": [
    {
     "name": "stdout",
     "output_type": "stream",
     "text": [
      "123456\n"
     ]
    },
    {
     "data": {
      "text/plain": [
       "str"
      ]
     },
     "execution_count": 10,
     "metadata": {},
     "output_type": "execute_result"
    }
   ],
   "source": [
    "#7. Write a Python program to convert a list of characters into a string.\n",
    "\n",
    "l=[1,2,3,4,5,6]\n",
    "a=\"\"\n",
    "for x in l:\n",
    "    a+=str(x)\n",
    "print(a)\n",
    "type(a)"
   ]
  },
  {
   "cell_type": "code",
   "execution_count": 11,
   "id": "a099fd5e",
   "metadata": {},
   "outputs": [
    {
     "name": "stdout",
     "output_type": "stream",
     "text": [
      "123456\n",
      "Enter the length of the list 5\n",
      "Enter a number: 8\n",
      "Enter a number: 7\n",
      "Enter a number: 0\n",
      "Enter a number: 1\n",
      "Enter a number: 3\n",
      "List is:  [8, 7, 0, 1, 3] \n",
      "Average is:  19\n"
     ]
    }
   ],
   "source": [
    "#7. Write a Python program to convert a list of characters into a string.\n",
    "\n",
    "l=[1,2,3,4,5,6]\n",
    "a=\"\"\n",
    "for x in l:\n",
    "    a+=str(x)\n",
    "print(a)\n",
    "type(a)#8.Write a Python program to compute average of given lists.\n",
    "\n",
    "l=[];avg=0\n",
    "y=int(input(\"Enter the length of the list \"))\n",
    "for x in range(0,y):\n",
    "    z=int(input(\"Enter a number: \"))\n",
    "    l.append(z)\n",
    "    avg+=z\n",
    "s=avg/y\n",
    "print(\"List is: \",l,\"\\nAverage is: \",avg)"
   ]
  },
  {
   "cell_type": "code",
   "execution_count": 12,
   "id": "c447e0eb",
   "metadata": {},
   "outputs": [
    {
     "name": "stdout",
     "output_type": "stream",
     "text": [
      "Enter the length of the list: 4\n",
      "Chose the datatype: int,float,complex,string: int\n",
      "Enter integer data: 3\n",
      "Chose the datatype: int,float,complex,string: 1\n",
      "Enter string data: float\n",
      "Chose the datatype: int,float,complex,string: 2.2\n",
      "Enter string data: string\n",
      "Chose the datatype: int,float,complex,string: junnu\n",
      "Enter string data: 1\n",
      "Input:  [3, 'float', 'string', '1']\n",
      "Number of integers in the list:  1\n"
     ]
    }
   ],
   "source": [
    "#9.Write a Python program to count integer in a given mixed list.\n",
    "#Ex:Input: [10, “a”,2,3,5.5,1.34,” Abc”,” rt”]\n",
    "#Output: Number of integers in the list:3\n",
    "\n",
    "a=int(input(\"Enter the length of the list: \"))\n",
    "l=[];i=0\n",
    "for x in range(0,a):\n",
    "    data=input(\"Chose the datatype: int,float,complex,string: \")\n",
    "    if data==\"int\":\n",
    "        l.append(int(input(\"Enter integer data: \")))\n",
    "        i+=1\n",
    "    elif data==\"float\":\n",
    "        l.append(float(input(\"Enter float data: \")))\n",
    "    elif data==\"complex\":\n",
    "        l.append(complex(input(\"Enter complex data: \")))\n",
    "    else:\n",
    "        l.append(input(\"Enter string data: \"))\n",
    "print(\"Input: \",l)\n",
    "print(\"Number of integers in the list: \",i)"
   ]
  },
  {
   "cell_type": "code",
   "execution_count": 13,
   "id": "2072b3b2",
   "metadata": {},
   "outputs": [
    {
     "name": "stdout",
     "output_type": "stream",
     "text": [
      "Enter the length of the list: 2\n",
      "Enter the data: ab\n",
      "Enter the data: cd\n",
      "['ab', 'cd']\n",
      "['cd', 'ab']\n"
     ]
    }
   ],
   "source": [
    "#10. Write a Python program to reverse the list\n",
    "\n",
    "l=[]\n",
    "a=int(input(\"Enter the length of the list: \"))\n",
    "for x in range(0,a):\n",
    "    l.append(input(\"Enter the data: \"))\n",
    "print(l)\n",
    "print(l[::-1])"
   ]
  },
  {
   "cell_type": "code",
   "execution_count": 14,
   "id": "4c546163",
   "metadata": {},
   "outputs": [
    {
     "name": "stdout",
     "output_type": "stream",
     "text": [
      "Enter a string: chitti\n",
      "('c', 'h', 'i', 't', 't', 'i')\n"
     ]
    }
   ],
   "source": [
    "#11. Write a Python program convert a given string to a tuple\n",
    "#Ex: Input: “python1.2”\n",
    "#Output: (“p”,” y”,”t”,”h”,” o”,” n”,”1”,”.”,”2”)\n",
    "\n",
    "string=input(\"Enter a string: \")\n",
    "print(tuple(string))"
   ]
  },
  {
   "cell_type": "code",
   "execution_count": null,
   "id": "5f0ea3e2",
   "metadata": {},
   "outputs": [],
   "source": []
  }
 ],
 "metadata": {
  "kernelspec": {
   "display_name": "Python 3 (ipykernel)",
   "language": "python",
   "name": "python3"
  },
  "language_info": {
   "codemirror_mode": {
    "name": "ipython",
    "version": 3
   },
   "file_extension": ".py",
   "mimetype": "text/x-python",
   "name": "python",
   "nbconvert_exporter": "python",
   "pygments_lexer": "ipython3",
   "version": "3.10.9"
  }
 },
 "nbformat": 4,
 "nbformat_minor": 5
}
